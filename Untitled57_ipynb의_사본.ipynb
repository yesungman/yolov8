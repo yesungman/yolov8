{
  "nbformat": 4,
  "nbformat_minor": 0,
  "metadata": {
    "colab": {
      "private_outputs": true,
      "provenance": [],
      "gpuType": "T4",
      "include_colab_link": true
    },
    "kernelspec": {
      "name": "python3",
      "display_name": "Python 3"
    },
    "language_info": {
      "name": "python"
    },
    "accelerator": "GPU"
  },
  "cells": [
    {
      "cell_type": "markdown",
      "metadata": {
        "id": "view-in-github",
        "colab_type": "text"
      },
      "source": [
        "<a href=\"https://colab.research.google.com/github/yesungman/yolov8/blob/main/Untitled57_ipynb%EC%9D%98_%EC%82%AC%EB%B3%B8.ipynb\" target=\"_parent\"><img src=\"https://colab.research.google.com/assets/colab-badge.svg\" alt=\"Open In Colab\"/></a>"
      ]
    },
    {
      "cell_type": "markdown",
      "source": [
        "1. yolov11 시작하기\n"
      ],
      "metadata": {
        "id": "8JJ07kqZhs93"
      }
    },
    {
      "cell_type": "code",
      "execution_count": null,
      "metadata": {
        "id": "REDJKycShbDN"
      },
      "outputs": [],
      "source": [
        "# yt-dlp 설치\n",
        "!pip install -U yt-dlp\n",
        "\n",
        "# 영상 다운로드\n",
        "!yt-dlp -f best -o \"video.mp4\" \"https://www.youtube.com/shorts/HBY7RI58hFQ\"\n"
      ]
    },
    {
      "cell_type": "markdown",
      "source": [
        " 2. ultralytics 설치하기\n"
      ],
      "metadata": {
        "id": "ZcC8HAFYiSI_"
      }
    },
    {
      "cell_type": "code",
      "source": [
        "!pip install ultralytics\n"
      ],
      "metadata": {
        "id": "DYawddyxiQ7W"
      },
      "execution_count": null,
      "outputs": []
    },
    {
      "cell_type": "markdown",
      "source": [
        "3. YOLOv11 모델 로드 및 객체 인식 수행"
      ],
      "metadata": {
        "id": "sBWFo_qBnCPd"
      }
    },
    {
      "cell_type": "code",
      "source": [
        "from ultralytics import YOLO\n",
        "import matplotlib.pyplot as plt\n",
        "import cv2\n",
        "\n",
        "# 올바른 모델 사용\n",
        "model = YOLO(\"yolov8n.pt\")\n",
        "\n",
        "# 추적 실행\n",
        "results = model.track(source=\"video.mp4\", show=False, stream=True)\n",
        "\n",
        "# 결과 시각화\n",
        "for r in results:\n",
        "    frame = r.plot()\n",
        "    plt.imshow(cv2.cvtColor(frame, cv2.COLOR_BGR2RGB))\n",
        "    plt.axis('off')\n",
        "    plt.show()\n"
      ],
      "metadata": {
        "id": "HFbf66KLd1em"
      },
      "execution_count": null,
      "outputs": []
    },
    {
      "cell_type": "code",
      "source": [
        "# 1. 필요 패키지 설치\n",
        "!pip install -U ultralytics\n",
        "\n",
        "# 2. 라이브러리 임포트\n",
        "from ultralytics import YOLO\n",
        "from IPython.display import Video, display\n",
        "from pathlib import Path\n",
        "import os\n",
        "\n",
        "# 3. 모델 로드 (존재하는 모델만 사용해야 함)\n",
        "model = YOLO(\"yolov8n.pt\")  # ⚠️ yolo11n.pt는 존재하지 않음\n",
        "\n",
        "# 4. 객체 추적 실행 (save_dir 지정하지 않고 자동 경로 사용)\n",
        "results = model.track(source=\"video.mp4\", save=True, conf=0.3)\n",
        "\n",
        "# 5. 실제 저장된 디렉터리 확인\n",
        "save_dir = Path(model.predictor.save_dir)\n",
        "print(f\"📁 실제 저장 위치: {save_dir}\")\n",
        "\n",
        "# 6. 결과 영상 찾기\n",
        "video_files = list(save_dir.rglob(\"*.mp4\"))\n",
        "if video_files:\n",
        "    print(\"✅ 객체 추적 결과 영상:\")\n",
        "    display(Video(str(video_files[0]), embed=True))\n",
        "else:\n",
        "    print(\"❌ 결과 영상이 없습니다.\")\n"
      ],
      "metadata": {
        "id": "fR4nk7fRm3t4"
      },
      "execution_count": null,
      "outputs": []
    }
  ]
}