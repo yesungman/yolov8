{
  "nbformat": 4,
  "nbformat_minor": 0,
  "metadata": {
    "colab": {
      "private_outputs": true,
      "provenance": [],
      "gpuType": "T4",
      "include_colab_link": true
    },
    "kernelspec": {
      "name": "python3",
      "display_name": "Python 3"
    },
    "language_info": {
      "name": "python"
    },
    "accelerator": "GPU"
  },
  "cells": [
    {
      "cell_type": "markdown",
      "metadata": {
        "id": "view-in-github",
        "colab_type": "text"
      },
      "source": [
        "<a href=\"https://colab.research.google.com/github/yesungman/yolov8/blob/main/Untitled57_ipynb%EC%9D%98_%EC%82%AC%EB%B3%B8.ipynb\" target=\"_parent\"><img src=\"https://colab.research.google.com/assets/colab-badge.svg\" alt=\"Open In Colab\"/></a>"
      ]
    },
    {
      "cell_type": "markdown",
      "source": [
        "1. yolov11 시작하기\n"
      ],
      "metadata": {
        "id": "8JJ07kqZhs93"
      }
    },
    {
      "cell_type": "code",
      "execution_count": null,
      "metadata": {
        "id": "REDJKycShbDN"
      },
      "outputs": [],
      "source": [
        "# yt-dlp 설치\n",
        "!pip install -U yt-dlp\n",
        "\n",
        "# 영상 다운로드\n",
        "!yt-dlp -f best -o \"video.mp4\" \"https://www.youtube.com/shorts/HBY7RI58hFQ\"\n"
      ]
    },
    {
      "cell_type": "markdown",
      "source": [
        " 2. ultralytics 설치하기\n"
      ],
      "metadata": {
        "id": "ZcC8HAFYiSI_"
      }
    },
    {
      "cell_type": "code",
      "source": [
        "!pip install ultralytics\n"
      ],
      "metadata": {
        "id": "DYawddyxiQ7W"
      },
      "execution_count": null,
      "outputs": []
    },
    {
      "cell_type": "code",
      "source": [
        "from ultralytics import YOLO\n",
        "import matplotlib.pyplot as plt\n",
        "import cv2\n",
        "\n",
        "# 올바른 모델 사용\n",
        "model = YOLO(\"yolov8n.pt\")\n",
        "\n",
        "# 추적 실행\n",
        "results = model.track(source=\"video.mp4\", show=False, stream=True)\n",
        "\n",
        "# 결과 시각화\n",
        "for r in results:\n",
        "    frame = r.plot()\n",
        "    plt.imshow(cv2.cvtColor(frame, cv2.COLOR_BGR2RGB))\n",
        "    plt.axis('off')\n",
        "    plt.show()\n"
      ],
      "metadata": {
        "id": "HFbf66KLd1em"
      },
      "execution_count": null,
      "outputs": []
    }
  ]
}